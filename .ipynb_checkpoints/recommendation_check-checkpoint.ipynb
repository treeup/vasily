{
 "cells": [
  {
   "cell_type": "code",
   "execution_count": 42,
   "metadata": {
    "collapsed": true
   },
   "outputs": [],
   "source": [
    "#!/usr/bin/env python\n",
    "# -*- coding: utf-8 -*-\n",
    "\n",
    "import numpy as np\n",
    "import pandas as pd\n",
    "import sys\n",
    "import math\n"
   ]
  },
  {
   "cell_type": "code",
   "execution_count": 22,
   "metadata": {
    "collapsed": true
   },
   "outputs": [],
   "source": [
    "users_number = 0\n",
    "items_number = 0\n"
   ]
  },
  {
   "cell_type": "code",
   "execution_count": 23,
   "metadata": {
    "collapsed": true
   },
   "outputs": [],
   "source": [
    "def make_user_item_pairs():\n",
    "    # データからitem/userの配列を用意したい。\n",
    "    df = pd.read_csv(\"./ml-100k/u1.base\", sep=\"\\t\", names=[\"user_id\",\"item_id\",\"rating\", \"timestamp\"])\n",
    "\n",
    "    global users_number\n",
    "    global items_number\n",
    "    users_number = df.max().ix[\"user_id\"]\n",
    "    items_number = df.max().ix[\"item_id\"]\n",
    "\n",
    "    # userとitemのpairを表す二次元配列\n",
    "    # 縦user943行、横item1682列の零配列\n",
    "    user_item_pairs = np.zeros([users_number,items_number])\n",
    "\n",
    "    # 映画の情報のデータ\n",
    "    # df_movie = pd.read_csv(\"./ml-100k/u.item\", sep=\"|\")\n",
    "\n",
    "    # user_id,item_idに対応するratingの値を、user_item_pairsに代入していく。\n",
    "    # user_id,item_idは1から始まっているので、それぞれ-1している。\n",
    "    for i in range(len(df)):\n",
    "        user_item_pairs[df.ix[i][\"user_id\"]-1][df.ix[i][\"item_id\"]-1] = df.ix[i][\"rating\"]\n",
    "\n",
    "    return user_item_pairs"
   ]
  },
  {
   "cell_type": "code",
   "execution_count": 24,
   "metadata": {
    "collapsed": false
   },
   "outputs": [],
   "source": [
    "def search_movie_title(id_list,score_list):\n",
    "    movie_title_list=[]\n",
    "    score_list_reverse = sorted(score_list)[::-1]\n",
    "    # 映画の情報のデータ\n",
    "    df_movie = pd.read_csv(\"./ml-100k/u.item\", sep='|', encoding=\"ISO-8859-1\",header=None).ix[:,0:1]\n",
    "    for x,i in enumerate(id_list):\n",
    "        movie_title_list.append(list([df_movie.ix[i][1],score_list_reverse[x]]))\n",
    "    return movie_title_list"
   ]
  },
  {
   "cell_type": "code",
   "execution_count": 25,
   "metadata": {
    "collapsed": false
   },
   "outputs": [
    {
     "data": {
      "text/plain": [
       "array([[  1,   6,   5],\n",
       "       [  1,  10,   3],\n",
       "       [  1,  12,   5],\n",
       "       ..., \n",
       "       [459, 934,   3],\n",
       "       [460,  10,   3],\n",
       "       [462, 682,   5]])"
      ]
     },
     "execution_count": 25,
     "metadata": {},
     "output_type": "execute_result"
    }
   ],
   "source": [
    "array_real"
   ]
  },
  {
   "cell_type": "code",
   "execution_count": 26,
   "metadata": {
    "collapsed": false,
    "scrolled": true
   },
   "outputs": [
    {
     "data": {
      "text/plain": [
       "array([[  1,   1,   1, ..., 459, 460, 462],\n",
       "       [  6,  10,  12, ..., 934,  10, 682],\n",
       "       [  5,   3,   5, ...,   3,   3,   5]])"
      ]
     },
     "execution_count": 26,
     "metadata": {},
     "output_type": "execute_result"
    }
   ],
   "source": [
    "array_real.T"
   ]
  },
  {
   "cell_type": "code",
   "execution_count": null,
   "metadata": {
    "collapsed": true
   },
   "outputs": [],
   "source": []
  },
  {
   "cell_type": "code",
   "execution_count": 27,
   "metadata": {
    "collapsed": true
   },
   "outputs": [],
   "source": [
    "#コサイン類似度\n",
    "def cos_similarity(x,y):\n",
    "    return np.dot(x,y) / (np.linalg.norm(x) * np.linalg.norm(y))\n"
   ]
  },
  {
   "cell_type": "code",
   "execution_count": 28,
   "metadata": {
    "collapsed": true
   },
   "outputs": [],
   "source": [
    "#ユーザー同士の類似度を配列で返す\n",
    "def user_user_similarity(pairs):\n",
    "    users_sim = np.zeros((users_number, users_number))\n",
    "    \n",
    "    for i in range(users_number):\n",
    "        for j in range(i,users_number):\n",
    "            if i == j:\n",
    "                users_sim[i][j] = 1.0\n",
    "            else:\n",
    "                sim_score = cos_similarity(pairs[i], pairs[j])\n",
    "                users_sim[i][j] = sim_score\n",
    "                users_sim[j][i] = sim_score\n",
    "                \n",
    "    return users_sim\n"
   ]
  },
  {
   "cell_type": "code",
   "execution_count": 45,
   "metadata": {
    "collapsed": true
   },
   "outputs": [],
   "source": [
    "#  user_idとユーザー間類似度と、user/itemの対応リストを与えた時に、user_idのユーザーに映画をリコメンドする。\n",
    "# user_idは-1して用いるのに注意\n",
    "# kは推薦する映画の本数\n",
    "# lは上位L人の高い類似度をもつユーザーを対象にする\n",
    "def movie_recommend(users_sim, user_item_pairs):\n",
    "    \n",
    "    l = int(input(\"対象にする類似ユーザー数を入力してください : \"))\n",
    "    if l > 943:\n",
    "        print(\"Error with number of users.\")\n",
    "        sys.exit(1)\n",
    "    l = l + 1\n",
    "\n",
    "    df_real = pd.read_csv(\"./ml-100k/u1.test\", sep=\"\\t\", names=[\"user_id\",\"item_id\",\"rating\", \"timestamp\"])\n",
    "    array_real = df_real.ix[:,0:3].as_matrix()\n",
    "    test_users_list = list(set(array_real.T[0]))\n",
    "    \n",
    "    for u in test_users_list:\n",
    "    \n",
    "        #user_idの人との類似度が高いL人の人を対象に考える\n",
    "        #それ以外の人の類似度は考えないため、０で置き換える\n",
    "        high_sim_users_indices = np.argpartition(-users_sim[u-1], l)[:l]       \n",
    "        for x in range(users_number):\n",
    "            if x in high_sim_users_indices:\n",
    "                pass\n",
    "            else:\n",
    "                users_sim[u-1][x] = 0\n",
    "    \n",
    "    ###ここまでは共通###\n",
    "    #array_realにあるtestデータの評価を行い、比較を行う\n",
    "    #そのために、まず訓練データの配列を用意する必要がある\n",
    "    \n",
    "    #正解データにあるユーザーとアイテムの組み合わせから予測値を計算する\n",
    "    sim_scores = []\n",
    "    for i in array_real:\n",
    "        #     重みの合計\n",
    "        total_weight = 0\n",
    "    \n",
    "        total_weight = np.dot(users_sim[i[0]-1],user_item_pairs.T[i[1]])\n",
    "        \n",
    "        for_normalization = 0\n",
    "        for j in range(users_number):\n",
    "            if user_item_pairs[j][i[1]] != 0:\n",
    "                for_normalization += users_sim[i[0]-1][j]\n",
    "        if for_normalization != 0:\n",
    "            similarity_score = total_weight / for_normalization\n",
    "        else:\n",
    "            similarity_score = 0\n",
    "        sim_scores.append(similarity_score)\n",
    "     \n",
    "    #RMSEを計算する\n",
    "    real_scores = array_real.T[2]\n",
    "    num = len(real_scores)\n",
    "    rmse = 0\n",
    "    for i in range(0,num-1):\n",
    "        dif = real_scores[i]-sim_scores[i]\n",
    "        rmse += dif * dif\n",
    "    rmse = rmse/num\n",
    "    rmse = math.sqrt(rmse)\n",
    "\n",
    "    return rmse\n"
   ]
  },
  {
   "cell_type": "code",
   "execution_count": 30,
   "metadata": {
    "collapsed": true
   },
   "outputs": [],
   "source": [
    "u_i_pair = make_user_item_pairs()"
   ]
  },
  {
   "cell_type": "code",
   "execution_count": 31,
   "metadata": {
    "collapsed": true
   },
   "outputs": [],
   "source": [
    "users_similarity = user_user_similarity(u_i_pair)"
   ]
  },
  {
   "cell_type": "code",
   "execution_count": 44,
   "metadata": {
    "collapsed": false
   },
   "outputs": [
    {
     "name": "stdout",
     "output_type": "stream",
     "text": [
      "対象にする類似ユーザー数を入力してください : 40\n",
      "20000\n",
      "20000\n"
     ]
    }
   ],
   "source": [
    "result = movie_recommend(users_similarity, u_i_pair)"
   ]
  },
  {
   "cell_type": "code",
   "execution_count": 14,
   "metadata": {
    "collapsed": false
   },
   "outputs": [],
   "source": [
    "# result = search_movie_title(movie_id[0],movie_id[1])"
   ]
  },
  {
   "cell_type": "code",
   "execution_count": 46,
   "metadata": {
    "collapsed": false
   },
   "outputs": [
    {
     "name": "stdout",
     "output_type": "stream",
     "text": [
      "1.6928205358853987\n"
     ]
    }
   ],
   "source": [
    "print(result)"
   ]
  },
  {
   "cell_type": "code",
   "execution_count": null,
   "metadata": {
    "collapsed": true
   },
   "outputs": [],
   "source": []
  }
 ],
 "metadata": {
  "kernelspec": {
   "display_name": "Python 3",
   "language": "python",
   "name": "python3"
  },
  "language_info": {
   "codemirror_mode": {
    "name": "ipython",
    "version": 3
   },
   "file_extension": ".py",
   "mimetype": "text/x-python",
   "name": "python",
   "nbconvert_exporter": "python",
   "pygments_lexer": "ipython3",
   "version": "3.6.0"
  }
 },
 "nbformat": 4,
 "nbformat_minor": 2
}
