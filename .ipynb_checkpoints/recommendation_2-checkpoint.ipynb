{
 "cells": [
  {
   "cell_type": "code",
   "execution_count": 84,
   "metadata": {
    "collapsed": true
   },
   "outputs": [],
   "source": [
    "#!/usr/bin/env python\n",
    "# -*- coding: utf-8 -*-\n",
    "\n",
    "import numpy as np\n",
    "import pandas as pd\n",
    "import sys\n"
   ]
  },
  {
   "cell_type": "code",
   "execution_count": 85,
   "metadata": {
    "collapsed": true
   },
   "outputs": [],
   "source": [
    "users_number = 0\n",
    "items_number = 0\n"
   ]
  },
  {
   "cell_type": "code",
   "execution_count": 86,
   "metadata": {
    "collapsed": true
   },
   "outputs": [],
   "source": [
    "def make_user_item_pairs():\n",
    "    # データからitem/userの配列を用意したい。\n",
    "    df = pd.read_csv(\"./ml-100k/u.data\", sep=\"\\t\", names=[\"user_id\",\"item_id\",\"rating\", \"timestamp\"])\n",
    "\n",
    "    global users_number\n",
    "    global items_number\n",
    "    users_number = df.max().ix[\"user_id\"]\n",
    "    items_number = df.max().ix[\"item_id\"]\n",
    "\n",
    "    # userとitemのpairを表す二次元配列\n",
    "    # 縦user943行、横item1682列の零配列\n",
    "    user_item_pairs = np.zeros([users_number,items_number])\n",
    "\n",
    "    # 映画の情報のデータ\n",
    "    # df_movie = pd.read_csv(\"./ml-100k/u.item\", sep=\"|\")\n",
    "\n",
    "    # user_id,item_idに対応するratingの値を、user_item_pairsに代入していく。\n",
    "    # user_id,item_idは1から始まっているので、それぞれ-1している。\n",
    "    for i in range(len(df)):\n",
    "        user_item_pairs[df.ix[i][\"user_id\"]-1][df.ix[i][\"item_id\"]-1] = df.ix[i][\"rating\"]\n",
    "\n",
    "    return user_item_pairs"
   ]
  },
  {
   "cell_type": "code",
   "execution_count": 87,
   "metadata": {
    "collapsed": false
   },
   "outputs": [],
   "source": [
    "def search_movie_title(id_list,score_list):\n",
    "    movie_title_list=[]\n",
    "    score_list_reverse = sorted(score_list)[::-1]\n",
    "    # 映画の情報のデータ\n",
    "    df_movie = pd.read_csv(\"./ml-100k/u.item\", sep='|', encoding=\"ISO-8859-1\",header=None).ix[:,0:1]\n",
    "    for x,i in enumerate(id_list):\n",
    "        movie_title_list.append(list([df_movie.ix[i][1],score_list_reverse[x]]))\n",
    "    return movie_title_list"
   ]
  },
  {
   "cell_type": "code",
   "execution_count": 103,
   "metadata": {
    "collapsed": true
   },
   "outputs": [],
   "source": [
    "# def check_rmse(predicted):\n",
    "    # df_real = pd.read_csv(\"./ml-100k/u1.test\", sep='|', encoding=\"ISO-8859-1\",header=None).ix[:,0:1]\n",
    "df_real = pd.read_csv(\"./ml-100k/u1.test\", sep=\"\\t\", names=[\"user_id\",\"item_id\",\"rating\", \"timestamp\"])\n",
    "array_real = df_real.ix[:,0:3].as_matrix()"
   ]
  },
  {
   "cell_type": "code",
   "execution_count": 104,
   "metadata": {
    "collapsed": false
   },
   "outputs": [
    {
     "data": {
      "text/plain": [
       "array([[  1,   6,   5],\n",
       "       [  1,  10,   3],\n",
       "       [  1,  12,   5],\n",
       "       ..., \n",
       "       [459, 934,   3],\n",
       "       [460,  10,   3],\n",
       "       [462, 682,   5]])"
      ]
     },
     "execution_count": 104,
     "metadata": {},
     "output_type": "execute_result"
    }
   ],
   "source": [
    "array_real"
   ]
  },
  {
   "cell_type": "code",
   "execution_count": 88,
   "metadata": {
    "collapsed": true
   },
   "outputs": [],
   "source": [
    "#コサイン類似度\n",
    "def cos_similarity(x,y):\n",
    "    return np.dot(x,y) / (np.linalg.norm(x) * np.linalg.norm(y))\n"
   ]
  },
  {
   "cell_type": "code",
   "execution_count": 89,
   "metadata": {
    "collapsed": true
   },
   "outputs": [],
   "source": [
    "#ユーザー同士の類似度を配列で返す\n",
    "def user_user_similarity(pairs):\n",
    "    users_sim = np.zeros((users_number, users_number))\n",
    "    \n",
    "    for i in range(users_number):\n",
    "        for j in range(i,users_number):\n",
    "            if i == j:\n",
    "                users_sim[i][j] = 1.0\n",
    "            else:\n",
    "                sim_score = cos_similarity(pairs[i], pairs[j])\n",
    "                users_sim[i][j] = sim_score\n",
    "                users_sim[j][i] = sim_score\n",
    "                \n",
    "    return users_sim\n"
   ]
  },
  {
   "cell_type": "code",
   "execution_count": 90,
   "metadata": {
    "collapsed": true
   },
   "outputs": [],
   "source": [
    "#  user_idとユーザー間類似度と、user/itemの対応リストを与えた時に、user_idのユーザーに映画をリコメンドする。\n",
    "# user_idは-1して用いるのに注意\n",
    "# kは推薦する映画の本数\n",
    "# lは上位L人の高い類似度をもつユーザーを対象にする\n",
    "def movie_recommend(users_sim, user_item_pairs):\n",
    "    \n",
    "    user_id = int(input(\"user_idを入力してください : \"))\n",
    "    # エラー処理\n",
    "    if user_id-1 not in range(users_number):\n",
    "        print(\"No such a user_id. You need to update \\\"u.data\\\" for recommendation.\")\n",
    "        sys.exit(1)\n",
    "\n",
    "    k = int(input(\"推薦する映画の本数を入力してください : \"))\n",
    "    if k >1682:\n",
    "        print(\"Error with number of recommendation.\")\n",
    "        sys.exit(1)\n",
    "\n",
    "    l = int(input(\"対象にする類似ユーザー数を入力してください : \"))\n",
    "    if l > 943:\n",
    "        print(\"Error with number of users.\")\n",
    "        sys.exit(1)\n",
    "    l = l + 1\n",
    "\n",
    "    #     重みの合計\n",
    "    total_weight = 0\n",
    "    sim_scores = []\n",
    "    \n",
    "    #user_idの人との類似度が高いL人の人を対象に考える\n",
    "    #それ以外の人の類似度は考えないため、０で置き換える\n",
    "    high_sim_users_indices = np.argpartition(-users_sim[user_id-1], l)[:l]       \n",
    "    for x in range(users_number):\n",
    "        if x in high_sim_users_indices:\n",
    "            pass\n",
    "        else:\n",
    "            users_sim[user_id-1][x] = 0\n",
    "    \n",
    "    \n",
    "    for i in range(items_number):\n",
    "        # まだ評価のない（０）ものを対象に処理を行う\n",
    "        if user_item_pairs[user_id-1][i] == 0:\n",
    "            \n",
    "            # 作品iへの評価値と、user_idの人への類似度を掛け合わせた重みの合計を内積を用いて計算\n",
    "            # 自分自身への類似度は1になるため、その分を差し引いている\n",
    "            total_weight = np.dot(users_sim[user_id-1],user_item_pairs.T[i])\n",
    "\n",
    "            #たくさんの人に評価された作品の重みは大きくなる\n",
    "            #作品iを評価している(!=0)評価者の類似度の合計を求め、正規化する\n",
    "            for_normalization = 0            \n",
    "            for j in range(users_number):\n",
    "                if user_item_pairs[j][i] != 0:\n",
    "                    for_normalization += users_sim[user_id-1][j]\n",
    "            if for_normalization != 0:\n",
    "                similarity_score = total_weight / for_normalization\n",
    "            else:\n",
    "                similarity_score  = 0\n",
    "            sim_scores.append(similarity_score)\n",
    "\n",
    "    #正規化した類似度スコアの内、上位K件のitem_idを降順にソートして取得する\n",
    "    sim_scores_array = np.array(sim_scores)\n",
    "    unsorted_max_indices = np.argpartition(-sim_scores_array, k)[:k]\n",
    "    k_max = sim_scores_array[unsorted_max_indices]\n",
    "    indices = np.argsort(-k_max)\n",
    "    max_k_indices = unsorted_max_indices[indices]\n",
    "    \n",
    "    return max_k_indices, k_max\n"
   ]
  },
  {
   "cell_type": "code",
   "execution_count": 91,
   "metadata": {
    "collapsed": true
   },
   "outputs": [],
   "source": [
    "u_i_pair = make_user_item_pairs()"
   ]
  },
  {
   "cell_type": "code",
   "execution_count": 92,
   "metadata": {
    "collapsed": true
   },
   "outputs": [],
   "source": [
    "users_similarity = user_user_similarity(u_i_pair)"
   ]
  },
  {
   "cell_type": "code",
   "execution_count": 93,
   "metadata": {
    "collapsed": false
   },
   "outputs": [
    {
     "name": "stdout",
     "output_type": "stream",
     "text": [
      "user_idを入力してください : 15\n",
      "推薦する映画の本数を入力してください : 30\n",
      "対象にする類似ユーザー数を入力してください : 50\n"
     ]
    }
   ],
   "source": [
    "movie_id = movie_recommend(users_similarity, u_i_pair)"
   ]
  },
  {
   "cell_type": "code",
   "execution_count": 95,
   "metadata": {
    "collapsed": false
   },
   "outputs": [],
   "source": [
    "result = search_movie_title(movie_id[0],movie_id[1])"
   ]
  },
  {
   "cell_type": "code",
   "execution_count": 96,
   "metadata": {
    "collapsed": false
   },
   "outputs": [
    {
     "name": "stdout",
     "output_type": "stream",
     "text": [
      "[['Sleepless in Seattle (1993)', 5.0000000000000009], ['Dirty Dancing (1987)', 5.0], ['Right Stuff, The (1983)', 5.0], ['Ridicule (1996)', 5.0], ['Shanghai Triad (Yao a yao yao dao waipo qiao) (1995)', 5.0], ['Good, The Bad and The Ugly, The (1966)', 5.0], ['Postino, Il (1994)', 5.0], ['Dead Man Walking (1995)', 5.0], ['Hunt for Red October, The (1990)', 5.0], ['Basic Instinct (1992)', 5.0], ['Reservoir Dogs (1992)', 5.0], ['Now and Then (1995)', 5.0], ['Room with a View, A (1986)', 5.0], ['Blues Brothers 2000 (1998)', 5.0], ['Kingpin (1996)', 5.0], ['Mostro, Il (1994)', 5.0], ['Harold and Maude (1971)', 5.0], ['Stripes (1981)', 5.0], ['Space Jam (1996)', 5.0], ['In the Mouth of Madness (1995)', 5.0], [\"It's a Wonderful Life (1946)\", 5.0], ['Farinelli: il castrato (1994)', 5.0], ['Ref, The (1994)', 5.0], ['Chungking Express (1994)', 5.0], ['Maverick (1994)', 5.0], ['Audrey Rose (1977)', 5.0], ['Three Colors: Red (1994)', 5.0], ['Cop Land (1997)', 5.0], ['Unforgiven (1992)', 5.0], ['Sneakers (1992)', 4.8744833234578397]]\n"
     ]
    }
   ],
   "source": [
    "print(result)"
   ]
  }
 ],
 "metadata": {
  "kernelspec": {
   "display_name": "Python 3",
   "language": "python",
   "name": "python3"
  },
  "language_info": {
   "codemirror_mode": {
    "name": "ipython",
    "version": 3
   },
   "file_extension": ".py",
   "mimetype": "text/x-python",
   "name": "python",
   "nbconvert_exporter": "python",
   "pygments_lexer": "ipython3",
   "version": "3.6.0"
  }
 },
 "nbformat": 4,
 "nbformat_minor": 2
}
